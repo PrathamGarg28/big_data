{
  "nbformat": 4,
  "nbformat_minor": 0,
  "metadata": {
    "colab": {
      "provenance": [],
      "authorship_tag": "ABX9TyP24CwGNgbz9mLwH2tKBLUp",
      "include_colab_link": true
    },
    "kernelspec": {
      "name": "python3",
      "display_name": "Python 3"
    },
    "language_info": {
      "name": "python"
    }
  },
  "cells": [
    {
      "cell_type": "markdown",
      "metadata": {
        "id": "view-in-github",
        "colab_type": "text"
      },
      "source": [
        "<a href=\"https://colab.research.google.com/github/PrathamGarg28/big_data/blob/main/labeval_1mca2_202301044.ipynb\" target=\"_parent\"><img src=\"https://colab.research.google.com/assets/colab-badge.svg\" alt=\"Open In Colab\"/></a>"
      ]
    },
    {
      "cell_type": "code",
      "execution_count": 16,
      "metadata": {
        "colab": {
          "base_uri": "https://localhost:8080/"
        },
        "id": "7kN6u3PJWiEd",
        "outputId": "5f888c04-9c99-41cc-ab4f-0c699c80417c"
      },
      "outputs": [
        {
          "output_type": "stream",
          "name": "stdout",
          "text": [
            "1> Base Array------\n",
            "[ 10  52  62  16  16  54 453]\n",
            "2> Sorted Array------\n",
            "[ 10  16  16  52  54  62 453]\n",
            "3> Indices of  Array------\n",
            "[0 3 4 1 5 2 6]\n",
            "4> 4 Smallest Elements------\n",
            "[10 16 16 52]\n",
            "5> 5 Largest Elements------\n",
            "[ 16  52  54  62 453]\n"
          ]
        }
      ],
      "source": [
        "#sorted array\n",
        "#indices of sorted array\n",
        "#4 smallest elements\n",
        "#5 largest elements\n",
        "import numpy as np\n",
        "array=np.array([10,52,62,16,16,54,453])\n",
        "sortedArr=np.sort(array)\n",
        "indices=np.argsort(array)\n",
        "smallest=sortedArr[:4]\n",
        "largest=sortedArr[2:]\n",
        "print(\"1> Base Array------\")\n",
        "print(array)\n",
        "print(\"2> Sorted Array------\")\n",
        "print(sortedArr)\n",
        "print(\"3> Indices of  Array------\")\n",
        "print(indices)\n",
        "print(\"4> 4 Smallest Elements------\")\n",
        "print(smallest)\n",
        "print(\"5> 5 Largest Elements------\")\n",
        "print(largest)"
      ]
    },
    {
      "cell_type": "code",
      "source": [],
      "metadata": {
        "id": "zKYiQyLUaOxP"
      },
      "execution_count": null,
      "outputs": []
    },
    {
      "cell_type": "code",
      "source": [],
      "metadata": {
        "id": "SP08oiBwaJ85"
      },
      "execution_count": null,
      "outputs": []
    },
    {
      "cell_type": "code",
      "source": [],
      "metadata": {
        "id": "0fkRM46UaEvC"
      },
      "execution_count": null,
      "outputs": []
    },
    {
      "cell_type": "code",
      "source": [],
      "metadata": {
        "id": "Ue-pm0gNZ4l0"
      },
      "execution_count": null,
      "outputs": []
    },
    {
      "cell_type": "code",
      "source": [],
      "metadata": {
        "id": "J5us3_wjZ1Rk"
      },
      "execution_count": null,
      "outputs": []
    },
    {
      "cell_type": "code",
      "source": [],
      "metadata": {
        "id": "CkKiV8TaZw3E"
      },
      "execution_count": null,
      "outputs": []
    },
    {
      "cell_type": "code",
      "source": [],
      "metadata": {
        "id": "TNrWhpfZZn5Q"
      },
      "execution_count": null,
      "outputs": []
    },
    {
      "cell_type": "code",
      "source": [],
      "metadata": {
        "id": "91P3KwycZkeu"
      },
      "execution_count": null,
      "outputs": []
    },
    {
      "cell_type": "code",
      "source": [],
      "metadata": {
        "id": "cl7GEClMZXAj"
      },
      "execution_count": null,
      "outputs": []
    },
    {
      "cell_type": "code",
      "source": [],
      "metadata": {
        "id": "vL4f5aKkZREz"
      },
      "execution_count": null,
      "outputs": []
    },
    {
      "cell_type": "code",
      "source": [],
      "metadata": {
        "id": "Kt2RLhECZKNR"
      },
      "execution_count": null,
      "outputs": []
    },
    {
      "cell_type": "code",
      "source": [],
      "metadata": {
        "id": "MXuR0SjtZITp"
      },
      "execution_count": null,
      "outputs": []
    },
    {
      "cell_type": "code",
      "source": [],
      "metadata": {
        "id": "aCmC7QJnY8r3"
      },
      "execution_count": null,
      "outputs": []
    },
    {
      "cell_type": "code",
      "source": [],
      "metadata": {
        "id": "5suVwdKfY6dq"
      },
      "execution_count": null,
      "outputs": []
    },
    {
      "cell_type": "code",
      "source": [],
      "metadata": {
        "id": "6yx3zFTLYYu9"
      },
      "execution_count": null,
      "outputs": []
    },
    {
      "cell_type": "code",
      "source": [],
      "metadata": {
        "id": "30fkn0PVXi2_"
      },
      "execution_count": null,
      "outputs": []
    }
  ]
}