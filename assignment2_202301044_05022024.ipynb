{
  "nbformat": 4,
  "nbformat_minor": 0,
  "metadata": {
    "colab": {
      "provenance": [],
      "authorship_tag": "ABX9TyPXGpK6lZoaDgXFmndZvJdL",
      "include_colab_link": true
    },
    "kernelspec": {
      "name": "python3",
      "display_name": "Python 3"
    },
    "language_info": {
      "name": "python"
    }
  },
  "cells": [
    {
      "cell_type": "markdown",
      "metadata": {
        "id": "view-in-github",
        "colab_type": "text"
      },
      "source": [
        "<a href=\"https://colab.research.google.com/github/PrathamGarg28/big_data/blob/main/assignment2_202301044_05022024.ipynb\" target=\"_parent\"><img src=\"https://colab.research.google.com/assets/colab-badge.svg\" alt=\"Open In Colab\"/></a>"
      ]
    },
    {
      "cell_type": "code",
      "execution_count": null,
      "metadata": {
        "colab": {
          "base_uri": "https://localhost:8080/"
        },
        "id": "bFswd9UwRlWh",
        "outputId": "15d98436-ec5b-421f-d91c-8afc38d9347c"
      },
      "outputs": [
        {
          "output_type": "stream",
          "name": "stdout",
          "text": [
            "Arrays are equal.\n"
          ]
        }
      ],
      "source": [
        "import numpy as np\n",
        "arr1 = np.array([[1, 2], [3, 4]])\n",
        "arr2 = np.array([[1, 2], [3, 4]])\n",
        "are_equal = np.array_equal(arr1, arr2)\n",
        "if are_equal:\n",
        "    print(\"Arrays are equal.\")\n",
        "else:\n",
        "    print(\"Arrays are not equal.\")"
      ]
    },
    {
      "cell_type": "code",
      "source": [
        "import numpy as np\n",
        "arr1=np.array([1, 2, 3, 6, 4, 5])\n",
        "arr2=np.flip(arr1)\n",
        "print(arr2)"
      ],
      "metadata": {
        "colab": {
          "base_uri": "https://localhost:8080/"
        },
        "id": "3cKB_BStS_uM",
        "outputId": "97075b0b-27fd-4b46-8d6e-1b7b20658a35"
      },
      "execution_count": null,
      "outputs": [
        {
          "output_type": "stream",
          "name": "stdout",
          "text": [
            "[5 4 6 3 2 1]\n"
          ]
        }
      ]
    },
    {
      "cell_type": "code",
      "source": [
        "import numpy as np\n",
        "gfg = np.matrix('[4, 1, 9; 12, 3, 1; 4, 5, 6]')\n",
        "soae= np.sum(gfg)\n",
        "soaerw=np.sum(gfg,axis=1)\n",
        "soaecw=np.sum(gfg,axis=0)\n",
        "print(\"Sum of all elements:\", soae)\n",
        "print(\"Sum of all elements row-wise\",soaerw)\n",
        "print(\"Sum of all elements column-wise\",soaecw)"
      ],
      "metadata": {
        "colab": {
          "base_uri": "https://localhost:8080/"
        },
        "id": "PNIpkpdMTZXl",
        "outputId": "dbb36bf8-d0fd-4c3e-c3b6-bdb131c89b92"
      },
      "execution_count": null,
      "outputs": [
        {
          "output_type": "stream",
          "name": "stdout",
          "text": [
            "Sum of all elements: 45\n",
            "Sum of all elements row-wise [[14]\n",
            " [16]\n",
            " [15]]\n",
            "Sum of all elements column-wise [[20  9 16]]\n"
          ]
        }
      ]
    },
    {
      "cell_type": "code",
      "source": [
        "import numpy as np\n",
        "x = np.array([1, 2, 3, 4, 5, 1, 2, 1, 1, 1])\n",
        "y = np.array([1, 1, 1, 2, 3, 4, 2, 4, 3, 3, ])\n",
        "most_frequent_value1, counts1 = np.unique(x, return_counts=True)\n",
        "most_frequent_value2, counts2 = np.unique(y, return_counts=True)\n",
        "most_frequent_index1 = np.where(x == most_frequent_value1[counts1.argmax()])[0]\n",
        "most_frequent_index2 = np.where(y == most_frequent_value2[counts2.argmax()])[0]\n",
        "print(\"Most frequent value:\", most_frequent_value1[counts1.argmax()])\n",
        "print(\"Indices:\", most_frequent_index1)\n",
        "print(\"Most frequent value:\", most_frequent_value2[counts2.argmax()])\n",
        "print(\"Indices:\", most_frequent_index2)"
      ],
      "metadata": {
        "colab": {
          "base_uri": "https://localhost:8080/"
        },
        "id": "LjMPTC6ZY-Gp",
        "outputId": "d7e4baa6-78bf-4305-d55b-a19bc2a4059d"
      },
      "execution_count": null,
      "outputs": [
        {
          "output_type": "stream",
          "name": "stdout",
          "text": [
            "Most frequent value: 1\n",
            "Indices: [0 5 7 8 9]\n",
            "Most frequent value: 1\n",
            "Indices: [0 1 2]\n"
          ]
        }
      ]
    }
  ]
}